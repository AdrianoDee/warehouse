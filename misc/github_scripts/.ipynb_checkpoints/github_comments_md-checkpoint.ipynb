{
 "cells": [
  {
   "cell_type": "code",
   "execution_count": 63,
   "id": "29dad93b",
   "metadata": {},
   "outputs": [],
   "source": [
    "import pandas as pd"
   ]
  },
  {
   "cell_type": "code",
   "execution_count": 147,
   "id": "3e68b7b6",
   "metadata": {},
   "outputs": [],
   "source": [
    "import configparser\n",
    "config = configparser.ConfigParser()"
   ]
  },
  {
   "cell_type": "code",
   "execution_count": 156,
   "id": "0c6dcc8c",
   "metadata": {},
   "outputs": [
    {
     "data": {
      "text/plain": [
       "['.config']"
      ]
     },
     "execution_count": 156,
     "metadata": {},
     "output_type": "execute_result"
    }
   ],
   "source": [
    "config.read(\".config\")"
   ]
  },
  {
   "cell_type": "code",
   "execution_count": 159,
   "id": "9b543271",
   "metadata": {},
   "outputs": [],
   "source": [
    "key = config[\"GIT\"][\"key\"]"
   ]
  },
  {
   "cell_type": "code",
   "execution_count": 160,
   "id": "cdef130d",
   "metadata": {},
   "outputs": [],
   "source": [
    "from github import Github\n",
    "from IPython.display import display, Markdown, Latex\n",
    "\n",
    "# using an access token\n",
    "g = Github(key)\n"
   ]
  },
  {
   "cell_type": "code",
   "execution_count": 161,
   "id": "dbbdd565",
   "metadata": {},
   "outputs": [],
   "source": [
    "cmssw = g.get_repo(\"cms-sw/cmssw\")"
   ]
  },
  {
   "cell_type": "code",
   "execution_count": 162,
   "id": "4a198537",
   "metadata": {},
   "outputs": [],
   "source": [
    "alpaka_pr = 41117\n",
    "alpaka_original_pull = cmssw.get_pull(alpaka_pr)"
   ]
  },
  {
   "cell_type": "code",
   "execution_count": 163,
   "id": "a005b7fe",
   "metadata": {},
   "outputs": [],
   "source": [
    "comments = alpaka_pull.get_comments()"
   ]
  },
  {
   "cell_type": "code",
   "execution_count": 164,
   "id": "0c080f54",
   "metadata": {},
   "outputs": [],
   "source": [
    "n_comments = comments.totalCount"
   ]
  },
  {
   "cell_type": "code",
   "execution_count": 165,
   "id": "deec2df2",
   "metadata": {},
   "outputs": [],
   "source": [
    "n = 0\n",
    "p = 0\n",
    "url = []\n",
    "by = []\n",
    "date = []\n",
    "time = []\n",
    "while n < n_comments:\n",
    "    page = comments.get_page(p)\n",
    "    p = p + 1\n",
    "    n = n + len(page)\n",
    "    for c in page:\n",
    "        if c.in_reply_to_id is None:\n",
    "            url.append(c.html_url)\n",
    "            by.append(c.user.login)\n",
    "            date.append(c.created_at.replace(second=0,minute=0,hour=0))\n",
    "            time.append(c.created_at)\n",
    "    #print(page)"
   ]
  },
  {
   "cell_type": "code",
   "execution_count": 166,
   "id": "d14dfbd2",
   "metadata": {},
   "outputs": [
    {
     "data": {
      "text/plain": [
       "'https://github.com/cms-sw/cmssw/pull/41117#discussion_r1157416279'"
      ]
     },
     "execution_count": 166,
     "metadata": {},
     "output_type": "execute_result"
    }
   ],
   "source": [
    "c.html_url"
   ]
  },
  {
   "cell_type": "code",
   "execution_count": 167,
   "id": "b830c0bb",
   "metadata": {},
   "outputs": [],
   "source": [
    "cols = [\"url\",\"user\",\"date\",\"time\"]\n",
    "z = zip(url,by,date,time)"
   ]
  },
  {
   "cell_type": "code",
   "execution_count": 168,
   "id": "b433e146",
   "metadata": {},
   "outputs": [],
   "source": [
    "comments_df = pd.DataFrame(z,columns = cols)"
   ]
  },
  {
   "cell_type": "code",
   "execution_count": 169,
   "id": "30124f43",
   "metadata": {},
   "outputs": [
    {
     "data": {
      "text/plain": [
       "'23 March 2023'"
      ]
     },
     "execution_count": 169,
     "metadata": {},
     "output_type": "execute_result"
    }
   ],
   "source": [
    "date[0].strftime(\"%d %B %Y\")"
   ]
  },
  {
   "cell_type": "code",
   "execution_count": 170,
   "id": "ed6bebb6",
   "metadata": {},
   "outputs": [],
   "source": [
    "byday = comments_df.groupby(\"date\")"
   ]
  },
  {
   "cell_type": "code",
   "execution_count": 171,
   "id": "8a63517f",
   "metadata": {},
   "outputs": [],
   "source": [
    "text = \"\"\n",
    "for d, g in byday:\n",
    "    \n",
    "    group = g.sort_values(\"time\")\n",
    "    \n",
    "    name = d.strftime(\"%d %B %Y\")\n",
    "    \n",
    "    text += \"----\\n\"\n",
    "    text += \"### \" + name +\"\\n\"\n",
    "    \n",
    "    for i,r in group.iterrows():\n",
    "        t = r[\"time\"].strftime(\"%H:%M:%S\")\n",
    "        s = \"- [ ] \" + \"[\" + t + \"](\" + r[\"url\"] + \")\" + \" by @\" + r[\"user\"] + \"\\n\"\n",
    "        text += s\n",
    "    #print(name)\n",
    "    #print(group)c.created_at.replace(second=0,minute=0,hour=0)"
   ]
  },
  {
   "cell_type": "code",
   "execution_count": 173,
   "id": "19078020",
   "metadata": {},
   "outputs": [
    {
     "data": {
      "text/markdown": [
       "----\n",
       "### 23 March 2023\n",
       "- [ ] [14:51:59](https://github.com/cms-sw/cmssw/pull/41117#discussion_r1146321816) by @tvami\n",
       "- [ ] [15:07:26](https://github.com/cms-sw/cmssw/pull/41117#discussion_r1146344988) by @makortel\n",
       "- [ ] [15:20:14](https://github.com/cms-sw/cmssw/pull/41117#discussion_r1146363907) by @makortel\n",
       "- [ ] [15:20:50](https://github.com/cms-sw/cmssw/pull/41117#discussion_r1146364664) by @makortel\n",
       "- [ ] [15:31:50](https://github.com/cms-sw/cmssw/pull/41117#discussion_r1146380725) by @makortel\n",
       "- [ ] [15:32:59](https://github.com/cms-sw/cmssw/pull/41117#discussion_r1146382341) by @makortel\n",
       "- [ ] [15:36:25](https://github.com/cms-sw/cmssw/pull/41117#discussion_r1146387334) by @makortel\n",
       "- [ ] [15:38:01](https://github.com/cms-sw/cmssw/pull/41117#discussion_r1146389637) by @makortel\n",
       "- [ ] [15:39:28](https://github.com/cms-sw/cmssw/pull/41117#discussion_r1146391605) by @makortel\n",
       "- [ ] [15:40:31](https://github.com/cms-sw/cmssw/pull/41117#discussion_r1146393140) by @makortel\n",
       "- [ ] [15:41:56](https://github.com/cms-sw/cmssw/pull/41117#discussion_r1146395221) by @makortel\n",
       "- [ ] [15:47:35](https://github.com/cms-sw/cmssw/pull/41117#discussion_r1146402901) by @makortel\n",
       "- [ ] [15:48:27](https://github.com/cms-sw/cmssw/pull/41117#discussion_r1146404248) by @makortel\n",
       "- [ ] [15:51:36](https://github.com/cms-sw/cmssw/pull/41117#discussion_r1146408580) by @makortel\n",
       "- [ ] [15:56:40](https://github.com/cms-sw/cmssw/pull/41117#discussion_r1146415660) by @makortel\n",
       "----\n",
       "### 28 March 2023\n",
       "- [ ] [13:46:13](https://github.com/cms-sw/cmssw/pull/41117#discussion_r1150640888) by @fwyzard\n",
       "- [ ] [14:06:45](https://github.com/cms-sw/cmssw/pull/41117#discussion_r1150681876) by @fwyzard\n",
       "- [ ] [14:07:07](https://github.com/cms-sw/cmssw/pull/41117#discussion_r1150682458) by @fwyzard\n",
       "- [ ] [14:07:24](https://github.com/cms-sw/cmssw/pull/41117#discussion_r1150682906) by @fwyzard\n",
       "- [ ] [14:07:35](https://github.com/cms-sw/cmssw/pull/41117#discussion_r1150683181) by @fwyzard\n",
       "- [ ] [14:07:55](https://github.com/cms-sw/cmssw/pull/41117#discussion_r1150683644) by @fwyzard\n",
       "- [ ] [14:08:14](https://github.com/cms-sw/cmssw/pull/41117#discussion_r1150684154) by @fwyzard\n",
       "- [ ] [14:08:25](https://github.com/cms-sw/cmssw/pull/41117#discussion_r1150684436) by @fwyzard\n",
       "- [ ] [14:17:34](https://github.com/cms-sw/cmssw/pull/41117#discussion_r1150698449) by @fwyzard\n",
       "- [ ] [14:18:06](https://github.com/cms-sw/cmssw/pull/41117#discussion_r1150699260) by @fwyzard\n",
       "- [ ] [19:51:08](https://github.com/cms-sw/cmssw/pull/41117#discussion_r1151086362) by @fwyzard\n",
       "- [ ] [22:44:29](https://github.com/cms-sw/cmssw/pull/41117#discussion_r1151222811) by @makortel\n",
       "----\n",
       "### 31 March 2023\n",
       "- [ ] [16:08:23](https://github.com/cms-sw/cmssw/pull/41117#discussion_r1154658404) by @makortel\n",
       "- [ ] [18:57:50](https://github.com/cms-sw/cmssw/pull/41117#discussion_r1154799142) by @makortel\n",
       "- [ ] [19:13:19](https://github.com/cms-sw/cmssw/pull/41117#discussion_r1154810252) by @makortel\n",
       "- [ ] [21:06:03](https://github.com/cms-sw/cmssw/pull/41117#discussion_r1154894262) by @makortel\n",
       "- [ ] [21:07:05](https://github.com/cms-sw/cmssw/pull/41117#discussion_r1154894823) by @makortel\n",
       "----\n",
       "### 03 April 2023\n",
       "- [ ] [13:44:12](https://github.com/cms-sw/cmssw/pull/41117#discussion_r1155985072) by @makortel\n",
       "- [ ] [13:44:49](https://github.com/cms-sw/cmssw/pull/41117#discussion_r1155985856) by @makortel\n",
       "- [ ] [13:45:13](https://github.com/cms-sw/cmssw/pull/41117#discussion_r1155986410) by @makortel\n",
       "- [ ] [13:45:56](https://github.com/cms-sw/cmssw/pull/41117#discussion_r1155987348) by @makortel\n",
       "- [ ] [13:46:23](https://github.com/cms-sw/cmssw/pull/41117#discussion_r1155987937) by @makortel\n",
       "- [ ] [13:56:15](https://github.com/cms-sw/cmssw/pull/41117#discussion_r1156000973) by @makortel\n",
       "- [ ] [13:56:33](https://github.com/cms-sw/cmssw/pull/41117#discussion_r1156001384) by @makortel\n",
       "- [ ] [13:56:53](https://github.com/cms-sw/cmssw/pull/41117#discussion_r1156001834) by @makortel\n",
       "- [ ] [14:01:26](https://github.com/cms-sw/cmssw/pull/41117#discussion_r1156007880) by @makortel\n",
       "- [ ] [14:01:58](https://github.com/cms-sw/cmssw/pull/41117#discussion_r1156008632) by @makortel\n",
       "- [ ] [14:03:00](https://github.com/cms-sw/cmssw/pull/41117#discussion_r1156009921) by @makortel\n",
       "- [ ] [14:03:19](https://github.com/cms-sw/cmssw/pull/41117#discussion_r1156010287) by @makortel\n",
       "- [ ] [14:04:03](https://github.com/cms-sw/cmssw/pull/41117#discussion_r1156011247) by @makortel\n",
       "- [ ] [14:05:09](https://github.com/cms-sw/cmssw/pull/41117#discussion_r1156012559) by @makortel\n",
       "- [ ] [14:21:08](https://github.com/cms-sw/cmssw/pull/41117#discussion_r1156034846) by @makortel\n",
       "- [ ] [14:22:28](https://github.com/cms-sw/cmssw/pull/41117#discussion_r1156036706) by @makortel\n",
       "- [ ] [14:23:00](https://github.com/cms-sw/cmssw/pull/41117#discussion_r1156037440) by @makortel\n",
       "- [ ] [14:25:11](https://github.com/cms-sw/cmssw/pull/41117#discussion_r1156040528) by @makortel\n",
       "- [ ] [14:26:43](https://github.com/cms-sw/cmssw/pull/41117#discussion_r1156042561) by @makortel\n",
       "- [ ] [14:27:10](https://github.com/cms-sw/cmssw/pull/41117#discussion_r1156043129) by @makortel\n",
       "- [ ] [14:27:31](https://github.com/cms-sw/cmssw/pull/41117#discussion_r1156043606) by @makortel\n",
       "- [ ] [14:42:59](https://github.com/cms-sw/cmssw/pull/41117#discussion_r1156063777) by @makortel\n",
       "- [ ] [15:20:40](https://github.com/cms-sw/cmssw/pull/41117#discussion_r1156112030) by @makortel\n",
       "- [ ] [15:35:59](https://github.com/cms-sw/cmssw/pull/41117#discussion_r1156130703) by @makortel\n",
       "- [ ] [15:39:05](https://github.com/cms-sw/cmssw/pull/41117#discussion_r1156134442) by @makortel\n",
       "- [ ] [15:39:20](https://github.com/cms-sw/cmssw/pull/41117#discussion_r1156134745) by @makortel\n",
       "- [ ] [15:40:35](https://github.com/cms-sw/cmssw/pull/41117#discussion_r1156136326) by @makortel\n",
       "- [ ] [15:42:05](https://github.com/cms-sw/cmssw/pull/41117#discussion_r1156138158) by @makortel\n",
       "----\n",
       "### 04 April 2023\n",
       "- [ ] [15:10:03](https://github.com/cms-sw/cmssw/pull/41117#discussion_r1157403547) by @fwyzard\n",
       "- [ ] [15:10:26](https://github.com/cms-sw/cmssw/pull/41117#discussion_r1157404073) by @fwyzard\n"
      ],
      "text/plain": [
       "<IPython.core.display.Markdown object>"
      ]
     },
     "metadata": {},
     "output_type": "display_data"
    }
   ],
   "source": [
    "display(Markdown(text))"
   ]
  },
  {
   "cell_type": "code",
   "execution_count": null,
   "id": "f2b58b1a",
   "metadata": {},
   "outputs": [],
   "source": []
  }
 ],
 "metadata": {
  "kernelspec": {
   "display_name": "Python 3 (ipykernel)",
   "language": "python",
   "name": "python3"
  },
  "language_info": {
   "codemirror_mode": {
    "name": "ipython",
    "version": 3
   },
   "file_extension": ".py",
   "mimetype": "text/x-python",
   "name": "python",
   "nbconvert_exporter": "python",
   "pygments_lexer": "ipython3",
   "version": "3.11.3"
  }
 },
 "nbformat": 4,
 "nbformat_minor": 5
}
