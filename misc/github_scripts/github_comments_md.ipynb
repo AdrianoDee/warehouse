{
 "cells": [
  {
   "cell_type": "code",
   "execution_count": 63,
   "id": "29dad93b",
   "metadata": {},
   "outputs": [],
   "source": [
    "import pandas as pd"
   ]
  },
  {
   "cell_type": "code",
   "execution_count": 147,
   "id": "de8bdff0",
   "metadata": {},
   "outputs": [],
   "source": [
    "import configparser\n",
    "config = configparser.ConfigParser()"
   ]
  },
  {
   "cell_type": "code",
   "execution_count": 156,
   "id": "5f46ec5f",
   "metadata": {},
   "outputs": [
    {
     "data": {
      "text/plain": [
       "['.config']"
      ]
     },
     "execution_count": 156,
     "metadata": {},
     "output_type": "execute_result"
    }
   ],
   "source": [
    "config.read(\".config\")"
   ]
  },
  {
   "cell_type": "code",
   "execution_count": 159,
   "id": "9b543271",
   "metadata": {},
   "outputs": [],
   "source": [
    "key = config[\"GIT\"][\"key\"]"
   ]
  },
  {
   "cell_type": "code",
   "execution_count": 160,
   "id": "cdef130d",
   "metadata": {},
   "outputs": [],
   "source": [
    "from github import Github\n",
    "from IPython.display import display, Markdown, Latex\n",
    "\n",
    "# using an access token\n",
    "g = Github(key)\n"
   ]
  },
  {
   "cell_type": "code",
   "execution_count": 161,
   "id": "dbbdd565",
   "metadata": {},
   "outputs": [],
   "source": [
    "cmssw = g.get_repo(\"cms-sw/cmssw\")"
   ]
  },
  {
   "cell_type": "code",
   "execution_count": 162,
   "id": "4a198537",
   "metadata": {},
   "outputs": [],
   "source": [
    "alpaka_pr = 41117\n",
    "alpaka_original_pull = cmssw.get_pull(alpaka_pr)"
   ]
  },
  {
   "cell_type": "code",
   "execution_count": 163,
   "id": "a005b7fe",
   "metadata": {},
   "outputs": [],
   "source": [
    "comments = alpaka_pull.get_comments()"
   ]
  },
  {
   "cell_type": "code",
   "execution_count": 164,
   "id": "0c080f54",
   "metadata": {},
   "outputs": [],
   "source": [
    "n_comments = comments.totalCount"
   ]
  },
  {
   "cell_type": "code",
   "execution_count": null,
   "id": "deec2df2",
   "metadata": {},
   "outputs": [],
   "source": [
    "n = 0\n",
    "p = 0\n",
    "url = []\n",
    "by = []\n",
    "date = []\n",
    "time = []\n",
    "while n < n_comments:\n",
    "    page = comments.get_page(p)\n",
    "    p = p + 1\n",
    "    n = n + len(page)\n",
    "    for c in page:\n",
    "        if c.in_reply_to_id is None:\n",
    "            url.append(c.html_url)\n",
    "            by.append(c.user.login)\n",
    "            date.append(c.created_at.replace(second=0,minute=0,hour=0))\n",
    "            time.append(c.created_at)\n",
    "    #print(page)"
   ]
  },
  {
   "cell_type": "code",
   "execution_count": null,
   "id": "d14dfbd2",
   "metadata": {},
   "outputs": [],
   "source": [
    "c.html_url"
   ]
  },
  {
   "cell_type": "code",
   "execution_count": null,
   "id": "b830c0bb",
   "metadata": {},
   "outputs": [],
   "source": [
    "cols = [\"url\",\"user\",\"date\",\"time\"]\n",
    "z = zip(url,by,date,time)"
   ]
  },
  {
   "cell_type": "code",
   "execution_count": null,
   "id": "b433e146",
   "metadata": {},
   "outputs": [],
   "source": [
    "comments_df = pd.DataFrame(z,columns = cols)"
   ]
  },
  {
   "cell_type": "code",
   "execution_count": null,
   "id": "30124f43",
   "metadata": {},
   "outputs": [],
   "source": [
    "date[0].strftime(\"%d %B %Y\")"
   ]
  },
  {
   "cell_type": "code",
   "execution_count": null,
   "id": "ed6bebb6",
   "metadata": {},
   "outputs": [],
   "source": [
    "byday = comments_df.groupby(\"date\")"
   ]
  },
  {
   "cell_type": "code",
   "execution_count": null,
   "id": "8a63517f",
   "metadata": {},
   "outputs": [],
   "source": [
    "text = \"\"\n",
    "for d, g in byday:\n",
    "    \n",
    "    group = g.sort_values(\"time\")\n",
    "    \n",
    "    name = d.strftime(\"%d %B %Y\")\n",
    "    \n",
    "    text += \"----\\n\"\n",
    "    text += \"### \" + name +\"\\n\"\n",
    "    \n",
    "    for i,r in group.iterrows():\n",
    "        t = r[\"time\"].strftime(\"%H:%M:%S\")\n",
    "        s = \"- [ ] \" + \"[\" + t + \"](\" + r[\"url\"] + \")\" + \" by @\" + r[\"user\"] + \"\\n\"\n",
    "        text += s\n",
    "    #print(name)\n",
    "    #print(group)c.created_at.replace(second=0,minute=0,hour=0)"
   ]
  },
  {
   "cell_type": "code",
   "execution_count": null,
   "id": "19078020",
   "metadata": {},
   "outputs": [],
   "source": [
    "display(Markdown(text))"
   ]
  },
  {
   "cell_type": "code",
   "execution_count": null,
   "id": "9d6053a4",
   "metadata": {},
   "outputs": [],
   "source": []
  }
 ],
 "metadata": {
  "kernelspec": {
   "display_name": "Python 3 (ipykernel)",
   "language": "python",
   "name": "python3"
  },
  "language_info": {
   "codemirror_mode": {
    "name": "ipython",
    "version": 3
   },
   "file_extension": ".py",
   "mimetype": "text/x-python",
   "name": "python",
   "nbconvert_exporter": "python",
   "pygments_lexer": "ipython3",
   "version": "3.11.3"
  }
 },
 "nbformat": 4,
 "nbformat_minor": 5
}
