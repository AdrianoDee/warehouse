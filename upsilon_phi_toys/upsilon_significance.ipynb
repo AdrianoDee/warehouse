{
 "cells": [
  {
   "cell_type": "code",
   "execution_count": 101,
   "metadata": {},
   "outputs": [],
   "source": [
    "from goofit import *\n",
    "import matplotlib.pyplot as plt\n",
    "from scipy.special import binom\n",
    "from scipy import integrate\n",
    "import numpy as np\n",
    "import contextlib\n",
    "import os\n",
    "from datetime import datetime\n",
    "from tqdm import tqdm\n",
    "import argparse\n",
    "import sys"
   ]
  },
  {
   "cell_type": "code",
   "execution_count": 99,
   "metadata": {},
   "outputs": [],
   "source": [
    "def is_notebook() -> bool:\n",
    "    print(\"here\")\n",
    "    try:\n",
    "        shell = get_ipython().__class__.__name__\n",
    "        if shell == 'ZMQInteractiveShell':\n",
    "            return True   # Jupyter notebook or qtconsole\n",
    "        elif shell == 'TerminalInteractiveShell':\n",
    "            return False  # Terminal running IPython\n",
    "        else:\n",
    "            return False  # Other type (?)\n",
    "    except NameError:\n",
    "        return False      # Probably standard Python interpreter\n"
   ]
  },
  {
   "cell_type": "code",
   "execution_count": 81,
   "metadata": {},
   "outputs": [],
   "source": [
    "start = np.floor(datetime.now().timestamp())"
   ]
  },
  {
   "cell_type": "code",
   "execution_count": 98,
   "metadata": {},
   "outputs": [
    {
     "name": "stdout",
     "output_type": "stream",
     "text": [
      "This is a notebook! Values will be fixed to \n",
      "----> n loops   : 1000\n",
      "----> n events  : 18752\n",
      "----> good nll  : 20\n"
     ]
    }
   ],
   "source": [
    "if(is_notebook()):\n",
    "    print(\"This is a notebook! Values will be fixed to \")\n",
    "    \n",
    "    class dummy():\n",
    "        loops = 0\n",
    "        events = 0\n",
    "        goodnll = 0\n",
    "\n",
    "    args = dummy()\n",
    "    args.loops = 1000\n",
    "    args.events = 18243+509\n",
    "    args.goodnll = 20\n",
    "    \n",
    "    print(\"----> n loops   : %d\"%(args.loops))\n",
    "    print(\"----> n events  : %d\"%(args.events))\n",
    "    print(\"----> good nll  : %d\"%(args.goodnll))\n",
    "    \n",
    "else:\n",
    "    \n",
    "    print(\"This is not a notebook! The inputs are important then!\")\n",
    "    \n",
    "    parser = argparse.ArgumentParser(description='Toys for statistical significance')\n",
    "    parser.add_argument('-l', '--loops',default=1000) \n",
    "    parser.add_argument('-e', '--events',default=18243+509) \n",
    "    parser.add_argument('-g', '--goodnll',default=20) \n",
    "    args = parser.parse_args()\n",
    "\n"
   ]
  },
  {
   "cell_type": "markdown",
   "metadata": {},
   "source": [
    "### Variables"
   ]
  },
  {
   "cell_type": "code",
   "execution_count": 6,
   "metadata": {},
   "outputs": [],
   "source": [
    "aS = []\n",
    "aS.append(Variable(\"a0\",0.00214,0.00214-3*0.00080,0.00214+3*0.00080)) #0.00080\n",
    "aS.append(Variable(\"a1\",0.0115,0.0115-3*0.0042,0.0115+3*0.0042)) #0.0042\n",
    "aS.append(Variable(\"a2\",0.0094,0.0094-3*0.0035,0.0094+3*0.0035)) #0.0035\n",
    "aS.append(Variable(\"a4\",0.0127,0.0127-3*0.0046,0.0127+3*0.0046)) #0.0046\n",
    "mean = Variable(\"mean\",10.51225,10.51225-0.00021*3,10.51311+0.00021*3) #0.0046\n",
    "sigma = Variable(\"sigma\",0.0017,0.0017-0.00023*3,0.0017+0.00023*3) #0.0046"
   ]
  },
  {
   "cell_type": "code",
   "execution_count": null,
   "metadata": {},
   "outputs": [],
   "source": [
    "xmin = 10.48\n",
    "xmax = 10.55\n",
    "x_points = np.linspace(xmin,xmax,1000)"
   ]
  },
  {
   "cell_type": "markdown",
   "metadata": {},
   "source": [
    "### Generation functions and parameters"
   ]
  },
  {
   "cell_type": "code",
   "execution_count": 8,
   "metadata": {},
   "outputs": [],
   "source": [
    "def bern_func(x,i=0,n=2):\n",
    "    \n",
    "    r = binom(n,i)*(x**i)*((1-x)**(n-i))\n",
    "    #val = val + r\n",
    "    return r\n",
    "\n",
    "def bern_func_gen(x,lowX,uppX,i=0,n=2):\n",
    "    xNorm = (x-lowX)/(uppX - lowX)\n",
    "    r = bern_func(xNorm,i=i,n=n)\n",
    "    return r\n",
    "\n",
    "def gen_bern(x,lowX,uppX):\n",
    "    r = 0\n",
    "    xNorm = (x-lowX)/(uppX - lowX)\n",
    "    for j in range(0,deg+1):\n",
    "        r = r + aS_gen[j] * bern_func_gen(x,xmin,xmax,i=j,n=deg)\n",
    "    return r\n",
    "\n",
    "aS_gen = []\n",
    "aS_gen.append(0.00214) #0.00080\n",
    "aS_gen.append(0.0115) #0.0042\n",
    "aS_gen.append(0.0094) #0.0035\n",
    "aS_gen.append(0.0127) #0.0046\n",
    "\n",
    "deg=3\n",
    "\n",
    "y_integral = integrate.romberg(gen_bern, xmin, xmax, args=(xmin,xmax), show=False)\n",
    "\n",
    "y_points = gen_bern(x_points,xmin,xmax)\n",
    "y_max = y_points.max()\n",
    "y_points = y_points/y_integral\n",
    "\n",
    "binw = (xmax - xmin)/1000.0\n"
   ]
  },
  {
   "cell_type": "markdown",
   "metadata": {},
   "source": [
    "### P.d.f.s definitions"
   ]
  },
  {
   "cell_type": "code",
   "execution_count": 10,
   "metadata": {},
   "outputs": [],
   "source": [
    "xvar = Observable(\"x\",xmin,xmax)\n",
    "bern = BernsteinPdf(\"bern\", xvar,aS,0)\n",
    "signal = GaussianPdf(\"gaus\",xvar,mean,sigma)"
   ]
  },
  {
   "cell_type": "markdown",
   "metadata": {},
   "source": [
    "## The MC Toys Loops"
   ]
  },
  {
   "cell_type": "code",
   "execution_count": 14,
   "metadata": {},
   "outputs": [],
   "source": [
    "print(\"Starting the MC Toys Run\")\n",
    "print(\"> n loops   : %d\"%(args.loops))\n",
    "print(\"> n events  : %d\"%(args.events))\n",
    "print(\"> good nll  : %d\"%(args.goodnll))"
   ]
  },
  {
   "cell_type": "code",
   "execution_count": 106,
   "metadata": {},
   "outputs": [
    {
     "ename": "KeyboardInterrupt",
     "evalue": "",
     "output_type": "error",
     "traceback": [
      "\u001b[0;31m---------------------------------------------------------------------------\u001b[0m",
      "\u001b[0;31mKeyboardInterrupt\u001b[0m                         Traceback (most recent call last)",
      "\u001b[0;32m<ipython-input-106-45a2c102220d>\u001b[0m in \u001b[0;36m<module>\u001b[0;34m\u001b[0m\n\u001b[1;32m     15\u001b[0m             \u001b[0;32mfor\u001b[0m \u001b[0mi\u001b[0m \u001b[0;32min\u001b[0m \u001b[0mrange\u001b[0m\u001b[0;34m(\u001b[0m\u001b[0mn_events\u001b[0m\u001b[0;34m)\u001b[0m\u001b[0;34m:\u001b[0m\u001b[0;34m\u001b[0m\u001b[0;34m\u001b[0m\u001b[0m\n\u001b[1;32m     16\u001b[0m                 \u001b[0mthis_x\u001b[0m \u001b[0;34m=\u001b[0m \u001b[0mnp\u001b[0m\u001b[0;34m.\u001b[0m\u001b[0mrandom\u001b[0m\u001b[0;34m.\u001b[0m\u001b[0muniform\u001b[0m\u001b[0;34m(\u001b[0m\u001b[0mxmin\u001b[0m\u001b[0;34m,\u001b[0m\u001b[0mxmax\u001b[0m\u001b[0;34m)\u001b[0m\u001b[0;34m\u001b[0m\u001b[0;34m\u001b[0m\u001b[0m\n\u001b[0;32m---> 17\u001b[0;31m                 \u001b[0mthis_y\u001b[0m \u001b[0;34m=\u001b[0m \u001b[0mgen_bern\u001b[0m\u001b[0;34m(\u001b[0m\u001b[0mthis_x\u001b[0m\u001b[0;34m,\u001b[0m\u001b[0mxmin\u001b[0m\u001b[0;34m,\u001b[0m\u001b[0mxmax\u001b[0m\u001b[0;34m)\u001b[0m\u001b[0;34m\u001b[0m\u001b[0;34m\u001b[0m\u001b[0m\n\u001b[0m\u001b[1;32m     18\u001b[0m                 \u001b[0mthis_roll\u001b[0m \u001b[0;34m=\u001b[0m \u001b[0mnp\u001b[0m\u001b[0;34m.\u001b[0m\u001b[0mrandom\u001b[0m\u001b[0;34m.\u001b[0m\u001b[0muniform\u001b[0m\u001b[0;34m(\u001b[0m\u001b[0;36m0.0\u001b[0m\u001b[0;34m,\u001b[0m\u001b[0my_max\u001b[0m\u001b[0;34m*\u001b[0m\u001b[0;36m1.01\u001b[0m\u001b[0;34m)\u001b[0m\u001b[0;34m\u001b[0m\u001b[0;34m\u001b[0m\u001b[0m\n\u001b[1;32m     19\u001b[0m                 \u001b[0;32mif\u001b[0m \u001b[0mthis_y\u001b[0m \u001b[0;34m>\u001b[0m \u001b[0mthis_roll\u001b[0m\u001b[0;34m:\u001b[0m\u001b[0;34m\u001b[0m\u001b[0;34m\u001b[0m\u001b[0m\n",
      "\u001b[0;32m<ipython-input-11-00cccc3908c6>\u001b[0m in \u001b[0;36mgen_bern\u001b[0;34m(x, lowX, uppX)\u001b[0m\n\u001b[1;32m     11\u001b[0m     \u001b[0mxNorm\u001b[0m \u001b[0;34m=\u001b[0m \u001b[0;34m(\u001b[0m\u001b[0mx\u001b[0m\u001b[0;34m-\u001b[0m\u001b[0mlowX\u001b[0m\u001b[0;34m)\u001b[0m\u001b[0;34m/\u001b[0m\u001b[0;34m(\u001b[0m\u001b[0muppX\u001b[0m \u001b[0;34m-\u001b[0m \u001b[0mlowX\u001b[0m\u001b[0;34m)\u001b[0m\u001b[0;34m\u001b[0m\u001b[0;34m\u001b[0m\u001b[0m\n\u001b[1;32m     12\u001b[0m     \u001b[0;32mfor\u001b[0m \u001b[0mj\u001b[0m \u001b[0;32min\u001b[0m \u001b[0mrange\u001b[0m\u001b[0;34m(\u001b[0m\u001b[0;36m0\u001b[0m\u001b[0;34m,\u001b[0m\u001b[0mdeg\u001b[0m\u001b[0;34m+\u001b[0m\u001b[0;36m1\u001b[0m\u001b[0;34m)\u001b[0m\u001b[0;34m:\u001b[0m\u001b[0;34m\u001b[0m\u001b[0;34m\u001b[0m\u001b[0m\n\u001b[0;32m---> 13\u001b[0;31m         \u001b[0mr\u001b[0m \u001b[0;34m=\u001b[0m \u001b[0mr\u001b[0m \u001b[0;34m+\u001b[0m \u001b[0maS_gen\u001b[0m\u001b[0;34m[\u001b[0m\u001b[0mj\u001b[0m\u001b[0;34m]\u001b[0m \u001b[0;34m*\u001b[0m \u001b[0mbern_func_gen\u001b[0m\u001b[0;34m(\u001b[0m\u001b[0mx\u001b[0m\u001b[0;34m,\u001b[0m\u001b[0mxmin\u001b[0m\u001b[0;34m,\u001b[0m\u001b[0mxmax\u001b[0m\u001b[0;34m,\u001b[0m\u001b[0mi\u001b[0m\u001b[0;34m=\u001b[0m\u001b[0mj\u001b[0m\u001b[0;34m,\u001b[0m\u001b[0mn\u001b[0m\u001b[0;34m=\u001b[0m\u001b[0mdeg\u001b[0m\u001b[0;34m)\u001b[0m\u001b[0;34m\u001b[0m\u001b[0;34m\u001b[0m\u001b[0m\n\u001b[0m\u001b[1;32m     14\u001b[0m     \u001b[0;32mreturn\u001b[0m \u001b[0mr\u001b[0m\u001b[0;34m\u001b[0m\u001b[0;34m\u001b[0m\u001b[0m\n",
      "\u001b[0;32m<ipython-input-8-fa202c851b7a>\u001b[0m in \u001b[0;36mbern_func_gen\u001b[0;34m(x, lowX, uppX, i, n)\u001b[0m\n\u001b[1;32m      7\u001b[0m \u001b[0;32mdef\u001b[0m \u001b[0mbern_func_gen\u001b[0m\u001b[0;34m(\u001b[0m\u001b[0mx\u001b[0m\u001b[0;34m,\u001b[0m\u001b[0mlowX\u001b[0m\u001b[0;34m,\u001b[0m\u001b[0muppX\u001b[0m\u001b[0;34m,\u001b[0m\u001b[0mi\u001b[0m\u001b[0;34m=\u001b[0m\u001b[0;36m0\u001b[0m\u001b[0;34m,\u001b[0m\u001b[0mn\u001b[0m\u001b[0;34m=\u001b[0m\u001b[0;36m2\u001b[0m\u001b[0;34m)\u001b[0m\u001b[0;34m:\u001b[0m\u001b[0;34m\u001b[0m\u001b[0;34m\u001b[0m\u001b[0m\n\u001b[1;32m      8\u001b[0m     \u001b[0mxNorm\u001b[0m \u001b[0;34m=\u001b[0m \u001b[0;34m(\u001b[0m\u001b[0mx\u001b[0m\u001b[0;34m-\u001b[0m\u001b[0mlowX\u001b[0m\u001b[0;34m)\u001b[0m\u001b[0;34m/\u001b[0m\u001b[0;34m(\u001b[0m\u001b[0muppX\u001b[0m \u001b[0;34m-\u001b[0m \u001b[0mlowX\u001b[0m\u001b[0;34m)\u001b[0m\u001b[0;34m\u001b[0m\u001b[0;34m\u001b[0m\u001b[0m\n\u001b[0;32m----> 9\u001b[0;31m     \u001b[0mr\u001b[0m \u001b[0;34m=\u001b[0m \u001b[0mbern_func\u001b[0m\u001b[0;34m(\u001b[0m\u001b[0mxNorm\u001b[0m\u001b[0;34m,\u001b[0m\u001b[0mi\u001b[0m\u001b[0;34m=\u001b[0m\u001b[0mi\u001b[0m\u001b[0;34m,\u001b[0m\u001b[0mn\u001b[0m\u001b[0;34m=\u001b[0m\u001b[0mn\u001b[0m\u001b[0;34m)\u001b[0m\u001b[0;34m\u001b[0m\u001b[0;34m\u001b[0m\u001b[0m\n\u001b[0m\u001b[1;32m     10\u001b[0m     \u001b[0;32mreturn\u001b[0m \u001b[0mr\u001b[0m\u001b[0;34m\u001b[0m\u001b[0;34m\u001b[0m\u001b[0m\n",
      "\u001b[0;32m<ipython-input-8-fa202c851b7a>\u001b[0m in \u001b[0;36mbern_func\u001b[0;34m(x, i, n)\u001b[0m\n\u001b[1;32m      1\u001b[0m \u001b[0;32mdef\u001b[0m \u001b[0mbern_func\u001b[0m\u001b[0;34m(\u001b[0m\u001b[0mx\u001b[0m\u001b[0;34m,\u001b[0m\u001b[0mi\u001b[0m\u001b[0;34m=\u001b[0m\u001b[0;36m0\u001b[0m\u001b[0;34m,\u001b[0m\u001b[0mn\u001b[0m\u001b[0;34m=\u001b[0m\u001b[0;36m2\u001b[0m\u001b[0;34m)\u001b[0m\u001b[0;34m:\u001b[0m\u001b[0;34m\u001b[0m\u001b[0;34m\u001b[0m\u001b[0m\n\u001b[1;32m      2\u001b[0m \u001b[0;34m\u001b[0m\u001b[0m\n\u001b[0;32m----> 3\u001b[0;31m     \u001b[0mr\u001b[0m \u001b[0;34m=\u001b[0m \u001b[0mbinom\u001b[0m\u001b[0;34m(\u001b[0m\u001b[0mn\u001b[0m\u001b[0;34m,\u001b[0m\u001b[0mi\u001b[0m\u001b[0;34m)\u001b[0m\u001b[0;34m*\u001b[0m\u001b[0;34m(\u001b[0m\u001b[0mx\u001b[0m\u001b[0;34m**\u001b[0m\u001b[0mi\u001b[0m\u001b[0;34m)\u001b[0m\u001b[0;34m*\u001b[0m\u001b[0;34m(\u001b[0m\u001b[0;34m(\u001b[0m\u001b[0;36m1\u001b[0m\u001b[0;34m-\u001b[0m\u001b[0mx\u001b[0m\u001b[0;34m)\u001b[0m\u001b[0;34m**\u001b[0m\u001b[0;34m(\u001b[0m\u001b[0mn\u001b[0m\u001b[0;34m-\u001b[0m\u001b[0mi\u001b[0m\u001b[0;34m)\u001b[0m\u001b[0;34m)\u001b[0m\u001b[0;34m\u001b[0m\u001b[0;34m\u001b[0m\u001b[0m\n\u001b[0m\u001b[1;32m      4\u001b[0m     \u001b[0;31m#val = val + r\u001b[0m\u001b[0;34m\u001b[0m\u001b[0;34m\u001b[0m\u001b[0;34m\u001b[0m\u001b[0m\n\u001b[1;32m      5\u001b[0m     \u001b[0;32mreturn\u001b[0m \u001b[0mr\u001b[0m\u001b[0;34m\u001b[0m\u001b[0;34m\u001b[0m\u001b[0m\n",
      "\u001b[0;31mKeyboardInterrupt\u001b[0m: "
     ]
    }
   ],
   "source": [
    "n_events = int(args.events)\n",
    "for i in tqdm(range(args.loops)):\n",
    "    \n",
    "    try:\n",
    "   \n",
    " \n",
    "        ##this avoids to printout the fit\n",
    "        #with open(os.devnull, 'w') as null, contextlib.redirect_stdout(null), contextlib.redirect_stderr(null):\n",
    "        with open(os.devnull, \"w\", encoding='utf-8') as target:\n",
    "            sys.stdout = target\n",
    "            sys.stderr = target\n",
    "            sys.stdin = target\n",
    "            dats = []\n",
    "\n",
    "            for i in range(n_events):\n",
    "                this_x = np.random.uniform(xmin,xmax)\n",
    "                this_y = gen_bern(this_x,xmin,xmax)\n",
    "                this_roll = np.random.uniform(0.0,y_max*1.01)\n",
    "                if this_y > this_roll:\n",
    "                    dats.append(this_x)\n",
    "\n",
    "\n",
    "            now = np.floor(datetime.now().timestamp())\n",
    "\n",
    "            np.random.seed()\n",
    "\n",
    "            data = UnbinnedDataSet(xvar)\n",
    "            data.from_numpy([dats],filter=True)\n",
    "\n",
    "            bern.setData(data)\n",
    "\n",
    "            fitter = FitManager(bern)\n",
    "            fitter.setVerbosity(0)\n",
    "            nll_bkg = fitter.fit().Fval()\n",
    "\n",
    "            data = UnbinnedDataSet(xvar)\n",
    "            data.from_numpy([dats],filter=True)\n",
    "\n",
    "            sigfrac = Variable(\"sigFrac\", 0.01, 0.0, 1.00)\n",
    "            total = AddPdf(\"total\", [sigfrac], [signal, bern])\n",
    "\n",
    "            total.setData(data)\n",
    "\n",
    "            fitter = FitManager(total)\n",
    "            nll_sig = fitter.fit().Fval()\n",
    "            fitter.setVerbosity(0)\n",
    "            \n",
    "            delta_nll = -(nll_sig-nll_bkg)\n",
    "\n",
    "            with open(\"delta_nlls%d.txt\"%(start),\"a\") as F:\n",
    "                    np.savetxt(F,[delta_nll])\n",
    "\n",
    "            if(delta_nll)>args.goodnll:\n",
    "\n",
    "                with open(\"data/%.2f_%d.txt\"%(delta_nll,now),\"wb\") as F:\n",
    "                    np.savetxt(F,dats)\n",
    "\n",
    "                numbins = 200\n",
    "                binw = (xmax-xmin)/numbins\n",
    "\n",
    "                figure = plt.figure(figsize=(12,15))\n",
    "                plt.hist(dats, bins=numbins, label='Data', density=False,histtype=\"step\",lw=\"2\",color=\"black\")\n",
    "\n",
    "                grid = bern.makeGrid()\n",
    "                bern.setData(grid)\n",
    "\n",
    "                main = np.array(bern.getCompProbsAtDataPoints()[0])\n",
    "                main = main*float(len(dats))*binw\n",
    "\n",
    "                xvals = grid.to_matrix().flatten()\n",
    "\n",
    "                plt.plot(xvals, main, label='H0 Fit',lw=3,color=\"blue\")\n",
    "\n",
    "                total.setData(grid)\n",
    "                main = np.array(total.getCompProbsAtDataPoints()[0])\n",
    "                main = main*float(len(dats))*binw\n",
    "\n",
    "                plt.plot(xvals, main, \"--\",label='H1 Fit',lw=3,color=\"red\")\n",
    "\n",
    "                xvals = grid.to_matrix().flatten()\n",
    "\n",
    "                plt.legend(fontsize=18,loc=\"lower right\")\n",
    "\n",
    "                ax = plt.gca()\n",
    "                ax.margins(x=0,tight=False)\n",
    "                plt.ylim(0,)\n",
    "                ax.tick_params(axis = 'both', which = 'major', labelsize = 16)\n",
    "\n",
    "                plt.title(\"Generated Data + Goofit Fit\",fontsize=18);\n",
    "                plt.savefig(\"plots/%.2f_%d.png\"%(delta_nll,now))\n",
    "    \n",
    "    finally:\n",
    "        sys.stdout = sys.__stdout__\n",
    "        sys.stderr = sys.__stderr__\n",
    "        sys.stdin = sys.__stdin__"
   ]
  },
  {
   "cell_type": "code",
   "execution_count": null,
   "metadata": {},
   "outputs": [],
   "source": []
  }
 ],
 "metadata": {
  "kernelspec": {
   "display_name": "Python 3",
   "language": "python",
   "name": "python3"
  },
  "language_info": {
   "codemirror_mode": {
    "name": "ipython",
    "version": 3
   },
   "file_extension": ".py",
   "mimetype": "text/x-python",
   "name": "python",
   "nbconvert_exporter": "python",
   "pygments_lexer": "ipython3",
   "version": "3.7.3"
  }
 },
 "nbformat": 4,
 "nbformat_minor": 4
}
