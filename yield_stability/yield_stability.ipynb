{
 "cells": [
  {
   "cell_type": "code",
   "execution_count": 1,
   "metadata": {},
   "outputs": [],
   "source": [
    "import uproot"
   ]
  },
  {
   "cell_type": "code",
   "execution_count": 2,
   "metadata": {},
   "outputs": [],
   "source": [
    "import pandas as pd"
   ]
  },
  {
   "cell_type": "code",
   "execution_count": 3,
   "metadata": {},
   "outputs": [],
   "source": [
    "import numpy as np"
   ]
  },
  {
   "cell_type": "code",
   "execution_count": 4,
   "metadata": {},
   "outputs": [],
   "source": [
    "import os"
   ]
  },
  {
   "cell_type": "code",
   "execution_count": 5,
   "metadata": {},
   "outputs": [],
   "source": [
    "import sys"
   ]
  },
  {
   "cell_type": "code",
   "execution_count": 6,
   "metadata": {},
   "outputs": [],
   "source": [
    "from matplotlib import pyplot as plt"
   ]
  },
  {
   "cell_type": "code",
   "execution_count": 28,
   "metadata": {},
   "outputs": [],
   "source": [
    "runfill = lambda x :  float(x.split(\":\")[0])\n",
    "fillrun = lambda x :  float(x.split(\":\")[1])"
   ]
  },
  {
   "cell_type": "code",
   "execution_count": 7,
   "metadata": {},
   "outputs": [],
   "source": [
    "%matplotlib inline"
   ]
  },
  {
   "cell_type": "code",
   "execution_count": 8,
   "metadata": {},
   "outputs": [],
   "source": [
    "path = \"/lustre/home/adrianodif/jpsiphi/2018/data_2018/analysis/utilities/skimmers/dimuon\""
   ]
  },
  {
   "cell_type": "code",
   "execution_count": 24,
   "metadata": {},
   "outputs": [],
   "source": [
    "RUN=\"run\""
   ]
  },
  {
   "cell_type": "markdown",
   "metadata": {},
   "source": []
  },
  {
   "cell_type": "code",
   "execution_count": 62,
   "metadata": {},
   "outputs": [],
   "source": [
    "tree = uproot.open(path+\"/dimuon.root\")[\"dimuon_tree\"]"
   ]
  },
  {
   "cell_type": "code",
   "execution_count": 63,
   "metadata": {},
   "outputs": [],
   "source": [
    "tree = tree.pandas.df()"
   ]
  },
  {
   "cell_type": "code",
   "execution_count": 64,
   "metadata": {},
   "outputs": [
    {
     "data": {
      "text/html": [
       "<div>\n",
       "<style scoped>\n",
       "    .dataframe tbody tr th:only-of-type {\n",
       "        vertical-align: middle;\n",
       "    }\n",
       "\n",
       "    .dataframe tbody tr th {\n",
       "        vertical-align: top;\n",
       "    }\n",
       "\n",
       "    .dataframe thead th {\n",
       "        text-align: right;\n",
       "    }\n",
       "</style>\n",
       "<table border=\"1\" class=\"dataframe\">\n",
       "  <thead>\n",
       "    <tr style=\"text-align: right;\">\n",
       "      <th></th>\n",
       "      <th>run</th>\n",
       "      <th>event</th>\n",
       "      <th>lumi</th>\n",
       "      <th>numPrimaryVertices</th>\n",
       "      <th>trigger</th>\n",
       "      <th>dimuon_m</th>\n",
       "      <th>dimuon_pt</th>\n",
       "      <th>dimuon_eta</th>\n",
       "      <th>dimuon_phi</th>\n",
       "    </tr>\n",
       "    <tr>\n",
       "      <th>entry</th>\n",
       "      <th></th>\n",
       "      <th></th>\n",
       "      <th></th>\n",
       "      <th></th>\n",
       "      <th></th>\n",
       "      <th></th>\n",
       "      <th></th>\n",
       "      <th></th>\n",
       "      <th></th>\n",
       "    </tr>\n",
       "  </thead>\n",
       "  <tbody>\n",
       "    <tr>\n",
       "      <th>0</th>\n",
       "      <td>320936.0</td>\n",
       "      <td>29573748.0</td>\n",
       "      <td>20.0</td>\n",
       "      <td>0.0</td>\n",
       "      <td>4.0</td>\n",
       "      <td>3.084255</td>\n",
       "      <td>25.906221</td>\n",
       "      <td>2.074423</td>\n",
       "      <td>2.504291</td>\n",
       "    </tr>\n",
       "    <tr>\n",
       "      <th>1</th>\n",
       "      <td>320936.0</td>\n",
       "      <td>29551592.0</td>\n",
       "      <td>20.0</td>\n",
       "      <td>0.0</td>\n",
       "      <td>2.0</td>\n",
       "      <td>3.040241</td>\n",
       "      <td>10.410605</td>\n",
       "      <td>1.256430</td>\n",
       "      <td>-0.915124</td>\n",
       "    </tr>\n",
       "    <tr>\n",
       "      <th>2</th>\n",
       "      <td>320936.0</td>\n",
       "      <td>29421524.0</td>\n",
       "      <td>20.0</td>\n",
       "      <td>0.0</td>\n",
       "      <td>4.0</td>\n",
       "      <td>2.991882</td>\n",
       "      <td>31.531738</td>\n",
       "      <td>1.273775</td>\n",
       "      <td>-2.490062</td>\n",
       "    </tr>\n",
       "    <tr>\n",
       "      <th>3</th>\n",
       "      <td>320936.0</td>\n",
       "      <td>29807760.0</td>\n",
       "      <td>20.0</td>\n",
       "      <td>0.0</td>\n",
       "      <td>2.0</td>\n",
       "      <td>3.090672</td>\n",
       "      <td>13.855668</td>\n",
       "      <td>0.314449</td>\n",
       "      <td>-1.892595</td>\n",
       "    </tr>\n",
       "    <tr>\n",
       "      <th>4</th>\n",
       "      <td>320936.0</td>\n",
       "      <td>28937624.0</td>\n",
       "      <td>20.0</td>\n",
       "      <td>0.0</td>\n",
       "      <td>2.0</td>\n",
       "      <td>3.088614</td>\n",
       "      <td>9.844723</td>\n",
       "      <td>-0.924510</td>\n",
       "      <td>-2.898862</td>\n",
       "    </tr>\n",
       "  </tbody>\n",
       "</table>\n",
       "</div>"
      ],
      "text/plain": [
       "            run       event  lumi  numPrimaryVertices  trigger  dimuon_m  \\\n",
       "entry                                                                      \n",
       "0      320936.0  29573748.0  20.0                 0.0      4.0  3.084255   \n",
       "1      320936.0  29551592.0  20.0                 0.0      2.0  3.040241   \n",
       "2      320936.0  29421524.0  20.0                 0.0      4.0  2.991882   \n",
       "3      320936.0  29807760.0  20.0                 0.0      2.0  3.090672   \n",
       "4      320936.0  28937624.0  20.0                 0.0      2.0  3.088614   \n",
       "\n",
       "       dimuon_pt  dimuon_eta  dimuon_phi  \n",
       "entry                                     \n",
       "0      25.906221    2.074423    2.504291  \n",
       "1      10.410605    1.256430   -0.915124  \n",
       "2      31.531738    1.273775   -2.490062  \n",
       "3      13.855668    0.314449   -1.892595  \n",
       "4       9.844723   -0.924510   -2.898862  "
      ]
     },
     "execution_count": 64,
     "metadata": {},
     "output_type": "execute_result"
    }
   ],
   "source": [
    "tree.head()"
   ]
  },
  {
   "cell_type": "markdown",
   "metadata": {},
   "source": [
    "At the time I had stored the trigger in bits, so I reconvert it in a one-hot vector where each element is either 0 or 1 depending if the trigger has fired or not."
   ]
  },
  {
   "cell_type": "code",
   "execution_count": 66,
   "metadata": {},
   "outputs": [],
   "source": [
    "bits = np.array([ np.array(list(np.binary_repr(b,width=3))) for b in tree[\"trigger\"].values.astype(int)])"
   ]
  },
  {
   "cell_type": "code",
   "execution_count": 67,
   "metadata": {},
   "outputs": [],
   "source": [
    "bits = np.array(bits)"
   ]
  },
  {
   "cell_type": "markdown",
   "metadata": {},
   "source": [
    "Let's define the new columns (to ease the reading)"
   ]
  },
  {
   "cell_type": "code",
   "execution_count": 68,
   "metadata": {},
   "outputs": [],
   "source": [
    "tree[\"HLT_DoubleMu2_Jpsi_DoubleTrk1_Phi\"] = bits[:,2]\n",
    "tree[\"HLT_DoubleMu2_Jpsi_DoubleTrk1_Phi1p05\"] = bits[:,1]\n",
    "tree[\"HLT_Dimuon25_Jpsi\"] = bits[:,0]"
   ]
  },
  {
   "cell_type": "markdown",
   "metadata": {},
   "source": [
    "A nice $J/\\psi \\to \\mu\\mu$ plot"
   ]
  },
  {
   "cell_type": "code",
   "execution_count": 65,
   "metadata": {},
   "outputs": [
    {
     "data": {
      "image/png": "[encoded data removed]",
      "text/plain": [
       "<Figure size 1200x900 with 1 Axes>"
      ]
     },
     "metadata": {},
     "output_type": "display_data"
    }
   ],
   "source": [
    "plt.figure(figsize=(12,9))\n",
    "plt.hist(tree[\"dimuon_m\"],bins=100,histtype=\"step\",color=\"blue\",lw=2);"
   ]
  },
  {
   "cell_type": "markdown",
   "metadata": {},
   "source": [
    "Let's select the trigger we want to monitor."
   ]
  },
  {
   "cell_type": "code",
   "execution_count": 47,
   "metadata": {},
   "outputs": [],
   "source": [
    "allDimuon = tree[\"HLT_Dimuon25_Jpsi\"].astype(float)>0.0"
   ]
  },
  {
   "cell_type": "markdown",
   "metadata": {},
   "source": [
    "The $p_T$ cut at $25 \\text{GeV}$ is clearly visible."
   ]
  },
  {
   "cell_type": "code",
   "execution_count": 48,
   "metadata": {},
   "outputs": [
    {
     "data": {
      "image/png": "[encoded data removed]",
      "text/plain": [
       "<Figure size 1200x900 with 1 Axes>"
      ]
     },
     "metadata": {},
     "output_type": "display_data"
    }
   ],
   "source": [
    "plt.figure(figsize=(12,9))\n",
    "plt.hist(tree[allDimuon][\"dimuon_pt\"],bins=100,range=(0.0,50.0),log=True,histtype=\"step\",color=\"red\",lw=2);"
   ]
  },
  {
   "cell_type": "code",
   "execution_count": 36,
   "metadata": {},
   "outputs": [
    {
     "data": {
      "text/plain": [
       "2.0    2448568\n",
       "4.0    1137404\n",
       "6.0     164322\n",
       "Name: trigger, dtype: int64"
      ]
     },
     "execution_count": 36,
     "metadata": {},
     "output_type": "execute_result"
    }
   ],
   "source": [
    "tree.trigger.value_counts()"
   ]
  },
  {
   "cell_type": "markdown",
   "metadata": {},
   "source": [
    "This is a double check just to drop some duplicate $J/\\psi$ (just to be safe)"
   ]
  },
  {
   "cell_type": "code",
   "execution_count": 61,
   "metadata": {},
   "outputs": [],
   "source": [
    "tree = tree.drop_duplicates(subset=[\"event\",\"run\",\"lumi\",\"dimuon_m\",\"dimuon_pt\"]).reset_index()"
   ]
  },
  {
   "cell_type": "markdown",
   "metadata": {},
   "source": [
    "And now let's count the numer of $J/\\psi$ per run."
   ]
  },
  {
   "cell_type": "code",
   "execution_count": 50,
   "metadata": {},
   "outputs": [
    {
     "data": {
      "text/html": [
       "<div>\n",
       "<style scoped>\n",
       "    .dataframe tbody tr th:only-of-type {\n",
       "        vertical-align: middle;\n",
       "    }\n",
       "\n",
       "    .dataframe tbody tr th {\n",
       "        vertical-align: top;\n",
       "    }\n",
       "\n",
       "    .dataframe thead th {\n",
       "        text-align: right;\n",
       "    }\n",
       "</style>\n",
       "<table border=\"1\" class=\"dataframe\">\n",
       "  <thead>\n",
       "    <tr style=\"text-align: right;\">\n",
       "      <th></th>\n",
       "      <th>run</th>\n",
       "      <th>counts</th>\n",
       "    </tr>\n",
       "  </thead>\n",
       "  <tbody>\n",
       "    <tr>\n",
       "      <th>0</th>\n",
       "      <td>315420.0</td>\n",
       "      <td>147151.0</td>\n",
       "    </tr>\n",
       "    <tr>\n",
       "      <th>1</th>\n",
       "      <td>315322.0</td>\n",
       "      <td>102257.0</td>\n",
       "    </tr>\n",
       "    <tr>\n",
       "      <th>2</th>\n",
       "      <td>316995.0</td>\n",
       "      <td>88564.0</td>\n",
       "    </tr>\n",
       "    <tr>\n",
       "      <th>3</th>\n",
       "      <td>316766.0</td>\n",
       "      <td>83710.0</td>\n",
       "    </tr>\n",
       "    <tr>\n",
       "      <th>4</th>\n",
       "      <td>315357.0</td>\n",
       "      <td>81902.0</td>\n",
       "    </tr>\n",
       "  </tbody>\n",
       "</table>\n",
       "</div>"
      ],
      "text/plain": [
       "        run    counts\n",
       "0  315420.0  147151.0\n",
       "1  315322.0  102257.0\n",
       "2  316995.0   88564.0\n",
       "3  316766.0   83710.0\n",
       "4  315357.0   81902.0"
      ]
     },
     "execution_count": 50,
     "metadata": {},
     "output_type": "execute_result"
    }
   ],
   "source": [
    "counts_df = tree[allDimuon][RUN].value_counts().astype(float)\n",
    "counts_df = pd.DataFrame(np.array([counts_df.index.astype(int),counts_df.values]).transpose(1,0),columns=[RUN,\"counts\"])\n",
    "counts_df = counts_df[counts_df[RUN]>1]\n",
    "counts_df.head()"
   ]
  },
  {
   "cell_type": "markdown",
   "metadata": {},
   "source": [
    "This is the json from the bril/lumi tool."
   ]
  },
  {
   "cell_type": "code",
   "execution_count": 52,
   "metadata": {
    "scrolled": true
   },
   "outputs": [
    {
     "data": {
      "text/html": [
       "<div>\n",
       "<style scoped>\n",
       "    .dataframe tbody tr th:only-of-type {\n",
       "        vertical-align: middle;\n",
       "    }\n",
       "\n",
       "    .dataframe tbody tr th {\n",
       "        vertical-align: top;\n",
       "    }\n",
       "\n",
       "    .dataframe thead th {\n",
       "        text-align: right;\n",
       "    }\n",
       "</style>\n",
       "<table border=\"1\" class=\"dataframe\">\n",
       "  <thead>\n",
       "    <tr style=\"text-align: right;\">\n",
       "      <th></th>\n",
       "      <th>time</th>\n",
       "      <th>nls</th>\n",
       "      <th>ncms</th>\n",
       "      <th>delivered</th>\n",
       "      <th>recorded</th>\n",
       "      <th>run</th>\n",
       "      <th>fill</th>\n",
       "    </tr>\n",
       "  </thead>\n",
       "  <tbody>\n",
       "    <tr>\n",
       "      <th>0</th>\n",
       "      <td>04/26/18 21:09:40</td>\n",
       "      <td>90</td>\n",
       "      <td>90</td>\n",
       "      <td>8.244874e+06</td>\n",
       "      <td>7.875652e+06</td>\n",
       "      <td>315257.0</td>\n",
       "      <td>6615.0</td>\n",
       "    </tr>\n",
       "    <tr>\n",
       "      <th>1</th>\n",
       "      <td>04/26/18 21:54:51</td>\n",
       "      <td>172</td>\n",
       "      <td>172</td>\n",
       "      <td>1.410498e+07</td>\n",
       "      <td>1.374204e+07</td>\n",
       "      <td>315259.0</td>\n",
       "      <td>6615.0</td>\n",
       "    </tr>\n",
       "    <tr>\n",
       "      <th>2</th>\n",
       "      <td>04/27/18 02:45:32</td>\n",
       "      <td>230</td>\n",
       "      <td>230</td>\n",
       "      <td>4.070611e+07</td>\n",
       "      <td>3.901323e+07</td>\n",
       "      <td>315264.0</td>\n",
       "      <td>6616.0</td>\n",
       "    </tr>\n",
       "    <tr>\n",
       "      <th>3</th>\n",
       "      <td>04/27/18 04:20:05</td>\n",
       "      <td>55</td>\n",
       "      <td>55</td>\n",
       "      <td>9.150117e+06</td>\n",
       "      <td>6.336633e+06</td>\n",
       "      <td>315265.0</td>\n",
       "      <td>6616.0</td>\n",
       "    </tr>\n",
       "    <tr>\n",
       "      <th>4</th>\n",
       "      <td>04/27/18 04:59:11</td>\n",
       "      <td>244</td>\n",
       "      <td>244</td>\n",
       "      <td>3.745539e+07</td>\n",
       "      <td>3.640150e+07</td>\n",
       "      <td>315267.0</td>\n",
       "      <td>6616.0</td>\n",
       "    </tr>\n",
       "  </tbody>\n",
       "</table>\n",
       "</div>"
      ],
      "text/plain": [
       "                time  nls  ncms     delivered      recorded       run    fill\n",
       "0  04/26/18 21:09:40   90    90  8.244874e+06  7.875652e+06  315257.0  6615.0\n",
       "1  04/26/18 21:54:51  172   172  1.410498e+07  1.374204e+07  315259.0  6615.0\n",
       "2  04/27/18 02:45:32  230   230  4.070611e+07  3.901323e+07  315264.0  6616.0\n",
       "3  04/27/18 04:20:05   55    55  9.150117e+06  6.336633e+06  315265.0  6616.0\n",
       "4  04/27/18 04:59:11  244   244  3.745539e+07  3.640150e+07  315267.0  6616.0"
      ]
     },
     "execution_count": 52,
     "metadata": {},
     "output_type": "execute_result"
    }
   ],
   "source": [
    "runs = pd.read_csv(path+\"/2018_runs\",delimiter=\",\")\n",
    "runs[RUN] = runs[\"run:fill\"].apply(runfill)\n",
    "runs[\"fill\"] = runs[\"run:fill\"].apply(fillrun)\n",
    "runs = runs.drop([\"run:fill\"],axis=1)\n",
    "runs.head()"
   ]
  },
  {
   "cell_type": "markdown",
   "metadata": {},
   "source": [
    "Let's then merge the two datasets (the $J/psi one and the luminosity one) on the run number."
   ]
  },
  {
   "cell_type": "code",
   "execution_count": 53,
   "metadata": {},
   "outputs": [],
   "source": [
    "runs = pd.merge(counts_df, runs, on=RUN)\n",
    "runs[\"ratio\"] = runs[\"counts\"]*1000.0/runs[\"recorded\"] # from mb to µb"
   ]
  },
  {
   "cell_type": "code",
   "execution_count": 54,
   "metadata": {},
   "outputs": [],
   "source": [
    "min_run = tree[RUN].min()\n",
    "max_run = tree[RUN].max()"
   ]
  },
  {
   "cell_type": "code",
   "execution_count": 56,
   "metadata": {},
   "outputs": [
    {
     "data": {
      "text/plain": [
       "Text(0.5, 1.0, 'Candidates Count')"
      ]
     },
     "execution_count": 56,
     "metadata": {},
     "output_type": "execute_result"
    },
    {
     "data": {
      "image/png": "[encoded data removed]",
      "text/plain": [
       "<Figure size 1200x900 with 1 Axes>"
      ]
     },
     "metadata": {},
     "output_type": "display_data"
    }
   ],
   "source": [
    "xnames = runs[RUN]\n",
    "\n",
    "plt.figure(figsize=(12,9))\n",
    "ax = plt.gca()\n",
    "\n",
    "plt.plot(xnames,runs[\"ratio\"].values,\"o\",color=\"blue\");\n",
    "ax.tick_params(axis = 'both', which = 'major', labelsize = 16)\n",
    "plt.xlabel(\"Run Number\",fontsize=17,fontstyle=\"italic\")\n",
    "plt.ylabel(\"Entries / $(µb)^{-1}$\",fontsize=17,fontstyle=\"italic\")\n",
    "plt.ylim(0,1.0)\n",
    "\n",
    "plt.title(\"Candidates Count\",fontsize=22,fontstyle=\"italic\")"
   ]
  },
  {
   "cell_type": "code",
   "execution_count": null,
   "metadata": {},
   "outputs": [],
   "source": []
  }
 ],
 "metadata": {
  "kernelspec": {
   "display_name": "Python 3 (ipykernel)",
   "language": "python",
   "name": "python3"
  },
  "language_info": {
   "codemirror_mode": {
    "name": "ipython",
    "version": 3
   },
   "file_extension": ".py",
   "mimetype": "text/x-python",
   "name": "python",
   "nbconvert_exporter": "python",
   "pygments_lexer": "ipython3",
   "version": "3.8.13"
  }
 },
 "nbformat": 4,
 "nbformat_minor": 2
}
